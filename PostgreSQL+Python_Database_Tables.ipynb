{
 "cells": [
  {
   "attachments": {},
   "cell_type": "markdown",
   "metadata": {},
   "source": [
    "## CREATING DATABASE AND TABLE - PostgesSQL+Python"
   ]
  },
  {
   "cell_type": "code",
   "execution_count": 1,
   "metadata": {},
   "outputs": [],
   "source": [
    "# Import the library\n",
    "import psycopg2\n"
   ]
  },
  {
   "attachments": {},
   "cell_type": "markdown",
   "metadata": {},
   "source": [
    "### Create a connection to the database"
   ]
  },
  {
   "cell_type": "code",
   "execution_count": 2,
   "metadata": {},
   "outputs": [],
   "source": [
    "try:\n",
    "    conexao = psycopg2.connect(\n",
    "        \"host=127.0.0.1 dbname=postgres user=postgres password=passwordofyourdatabase.\")\n",
    "except psycopg2.Error as erro:\n",
    "    print(\"Erro: não pode fazer a conexão com a base de dados\")\n",
    "    print(erro)\n"
   ]
  },
  {
   "cell_type": "markdown",
   "metadata": {},
   "source": [
    "### Use the connection to get a cursor that can be used to execute queries"
   ]
  },
  {
   "cell_type": "code",
   "execution_count": 3,
   "metadata": {},
   "outputs": [],
   "source": [
    "try:\n",
    "    curs= conexao.cursor()\n",
    "except psycopg2.Error as erro:\n",
    "    print(\"Erro: o cursor não pode chegar a base dados\")\n",
    "    print(erro)\n"
   ]
  },
  {
   "attachments": {},
   "cell_type": "markdown",
   "metadata": {},
   "source": [
    "### Set automatic commit to be true so that each action is commit without having to call conexao.commit after eache command"
   ]
  },
  {
   "cell_type": "code",
   "execution_count": 4,
   "metadata": {},
   "outputs": [],
   "source": [
    "conexao.set_session(autocommit=True)\n"
   ]
  },
  {
   "cell_type": "markdown",
   "metadata": {},
   "source": [
    "### Create a database to do the work"
   ]
  },
  {
   "cell_type": "code",
   "execution_count": 5,
   "metadata": {},
   "outputs": [
    {
     "name": "stdout",
     "output_type": "stream",
     "text": [
      "database \"praticando\" already exists\n",
      "\n"
     ]
    }
   ],
   "source": [
    "try:\n",
    "     curs.execute(\"create database praticando\")\n",
    "except psycopg2.Error as erro:\n",
    "        print(erro)"
   ]
  },
  {
   "attachments": {},
   "cell_type": "markdown",
   "metadata": {},
   "source": [
    "### Add the database name in the connect statement. Let's close our connection to the default database, reconnect to the Udacity database, and get a new cursor."
   ]
  },
  {
   "cell_type": "code",
   "execution_count": 6,
   "metadata": {},
   "outputs": [],
   "source": [
    "try: \n",
    "    conexao.close()\n",
    "except psycopg2.Error as erro:\n",
    "    print(erro)\n",
    "    \n",
    "try: \n",
    "    conexao = psycopg2.connect(\"host=127.0.0.1 dbname=praticando user=postgres password=1234aBCD4321.\")\n",
    "except psycopg2.Error as erro: \n",
    "    print(\"Erro: não pode fazer a conexão com a base de dados\")\n",
    "    print(erro)\n",
    "try: \n",
    "    curs = conexao.cursor()\n",
    "except psycopg2.Error as e: \n",
    "    print(\"Error: Could not get curser to the Database\")\n",
    "    print(e)\n",
    "\n",
    "conexao.set_session(autocommit=True)\n",
    "    \n"
   ]
  },
  {
   "attachments": {},
   "cell_type": "markdown",
   "metadata": {},
   "source": [
    "### Create Table students which includes below columns\n",
    "\n",
    "student_id <br>\n",
    "name <br>\n",
    "age <br>\n",
    "gender <br>\n",
    "subject <br>\n",
    "marks"
   ]
  },
  {
   "cell_type": "code",
   "execution_count": 7,
   "metadata": {},
   "outputs": [],
   "source": [
    "try: \n",
    "    curs.execute(\"CREATE TABLE IF NOT EXISTS students (student_id int, name varchar,\\\n",
    "age int, gender varchar, subject varchar, marks int);\")\n",
    "except psycopg2.Error as erro: \n",
    "    print(\"Erro: problema ao criar a tabela\")\n",
    "    print (erro)"
   ]
  },
  {
   "attachments": {},
   "cell_type": "markdown",
   "metadata": {},
   "source": [
    "### Insert the following four rows in the table\n",
    "First Row:  10, \"Joao Caneca\", 68, \"Male\", \"Python\", 95 <br>\n",
    "Second Row: 11, \"Celmira Caneca\", 64, \"Female\", \"Medicin\", 90 <br>\n",
    "Third Row:  12, \"Joao Oliveira\", 95, \"Male\", \"Power BI\", 8 <br>\n",
    "Fourth Row: 13, \"Julio Camara\", 97, \"Male\", \"Cisco\", 9"
   ]
  },
  {
   "cell_type": "code",
   "execution_count": 8,
   "metadata": {},
   "outputs": [],
   "source": [
    "try: \n",
    "    curs.execute(\"INSERT INTO students (student_id, name, age, gender, subject, marks) \\\n",
    "                 VALUES (%s, %s, %s, %s, %s, %s)\", (10, \"Joao Caneca\", 68, \"Male\", \"Python\", 95))\n",
    "except psycopg2.Error as erro: \n",
    "    print(\"Erro: Insercao nao feita\")\n",
    "    print (erro)\n",
    "    \n",
    "try: \n",
    "    curs.execute(\"INSERT INTO students (student_id, name, age, gender, subject, marks) \\\n",
    "                 VALUES (%s, %s, %s, %s, %s, %s)\", (11, \"Celmira Caneca\", 64, \"Female\", \"Medicin\", 90))\n",
    "except psycopg2.Error as erro: \n",
    "    print(\"Erro: Insercao nao feita\")\n",
    "    print (erro)\n",
    "\n",
    "try: \n",
    "    curs.execute(\"INSERT INTO students (student_id, name, age, gender, subject, marks) \\\n",
    "                 VALUES (%s, %s, %s, %s, %s, %s)\", (12, \"Joao Oliveira\", 95, \"Male\", \"Mentoria\", 8))\n",
    "except psycopg2.Error as erro: \n",
    "    print(\"Erro: Insercao nao feita\")\n",
    "    print (erro)\n",
    "\n",
    "try: \n",
    "    curs.execute(\"INSERT INTO students (student_id, name, age, gender, subject, marks) \\\n",
    "                 VALUES (%s, %s, %s, %s, %s, %s)\", (13, \"Julio Camara\", 97, \"Male\", \"Cisco\", 9))\n",
    "except psycopg2.Error as erro: \n",
    "    print(\"Erro: Insercao nao feita\")\n",
    "    print (erro)"
   ]
  },
  {
   "attachments": {},
   "cell_type": "markdown",
   "metadata": {},
   "source": [
    "### Validate data was inserted into the table"
   ]
  },
  {
   "cell_type": "code",
   "execution_count": 9,
   "metadata": {},
   "outputs": [
    {
     "name": "stdout",
     "output_type": "stream",
     "text": [
      "(10, 'Joao Caneca', 68, 'Male', 'Python', 95)\n",
      "(11, 'Celmira Caneca', 64, 'Female', 'Medicin', 90)\n",
      "(12, 'Joao Oliveira', 95, 'Male', 'Mentoria', 8)\n",
      "(13, 'Julio Camara', 97, 'Male', 'Cisco', 9)\n",
      "(10, 'Joao Caneca', 68, 'Male', 'Python', 95)\n",
      "(11, 'Celmira Caneca', 64, 'Female', 'Medicin', 90)\n",
      "(12, 'Joao Oliveira', 95, 'Male', 'Mentoria', 8)\n",
      "(13, 'Julio Camara', 97, 'Male', 'Cisco', 9)\n"
     ]
    }
   ],
   "source": [
    "try: \n",
    "    curs.execute(\"SELECT * FROM students;\")\n",
    "except psycopg2.Error as erro: \n",
    "    print(\"Erro: select *\")\n",
    "    print (erro)\n",
    "\n",
    "row = curs.fetchone()\n",
    "while row:\n",
    "    print(row)\n",
    "    row = curs.fetchone()"
   ]
  },
  {
   "attachments": {},
   "cell_type": "markdown",
   "metadata": {},
   "source": [
    "###  And finally close the cursor and connection."
   ]
  },
  {
   "cell_type": "code",
   "execution_count": 10,
   "metadata": {},
   "outputs": [],
   "source": [
    "curs.close()\n",
    "conexao.close()"
   ]
  },
  {
   "cell_type": "code",
   "execution_count": null,
   "metadata": {},
   "outputs": [],
   "source": []
  }
 ],
 "metadata": {
  "kernelspec": {
   "display_name": "Python 3",
   "language": "python",
   "name": "python3"
  },
  "language_info": {
   "codemirror_mode": {
    "name": "ipython",
    "version": 3
   },
   "file_extension": ".py",
   "mimetype": "text/x-python",
   "name": "python",
   "nbconvert_exporter": "python",
   "pygments_lexer": "ipython3",
   "version": "3.11.1"
  },
  "orig_nbformat": 4,
  "vscode": {
   "interpreter": {
    "hash": "5238573367df39f7286bb46f9ff5f08f63a01a80960060ce41e3c79b190280fa"
   }
  }
 },
 "nbformat": 4,
 "nbformat_minor": 2
}
